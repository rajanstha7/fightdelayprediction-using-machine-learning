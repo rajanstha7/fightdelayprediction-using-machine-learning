{
 "cells": [
  {
   "cell_type": "code",
   "execution_count": 1,
   "metadata": {},
   "outputs": [
    {
     "name": "stderr",
     "output_type": "stream",
     "text": [
      "Using TensorFlow backend.\n"
     ]
    }
   ],
   "source": [
    "%matplotlib inline\n",
    "import keras\n",
    "from keras import backend as K\n",
    "from keras.models import Sequential\n",
    "from keras.layers import Activation\n",
    "from keras.layers.core import Dense \n",
    "from keras.optimizers import Adam\n",
    "from keras.metrics import categorical_crossentropy\n",
    "import pandas as pd\n",
    "from sklearn.model_selection import train_test_split"
   ]
  },
  {
   "cell_type": "code",
   "execution_count": 2,
   "metadata": {},
   "outputs": [],
   "source": [
    "import numpy as np\n",
    "from random import randint\n",
    "from sklearn.preprocessing import MinMaxScaler"
   ]
  },
  {
   "cell_type": "code",
   "execution_count": 3,
   "metadata": {},
   "outputs": [
    {
     "data": {
      "text/plain": [
       "Unnamed: 0                                int64\n",
       "YEAR                                      int64\n",
       "DAY_OF_MONTH                              int64\n",
       "MONTH                                     int64\n",
       "ORIGIN_AIRPORT_ID                         int64\n",
       "OP_CARRIER_AIRLINE_ID                     int64\n",
       "DISTANCE                                float64\n",
       "inputLongitude                          float64\n",
       "inputLatitude                           float64\n",
       "DEP_TIME                                float64\n",
       "SurfaceTemperatureFahrenheit            float64\n",
       "SurfaceDewpointTemperatureFahrenheit    float64\n",
       "RelativeHumidityPercent                   int64\n",
       "SurfaceAirPressureMillibars               int64\n",
       "CloudCoveragePercent                      int64\n",
       "WindChillTemperatureFahrenheit          float64\n",
       "WindSpeedMph                            float64\n",
       "WindDirectionDegrees                      int64\n",
       "PrecipitationPreviousHourInches         float64\n",
       "SnowfallInches                          float64\n",
       "cat_response                              int64\n",
       "dtype: object"
      ]
     },
     "execution_count": 3,
     "metadata": {},
     "output_type": "execute_result"
    }
   ],
   "source": [
    "data = pd.read_csv('FinalFlight.csv')\n",
    "data.shape\n",
    "data.dtypes"
   ]
  },
  {
   "cell_type": "code",
   "execution_count": 4,
   "metadata": {},
   "outputs": [
    {
     "data": {
      "text/plain": [
       "0         0\n",
       "1         0\n",
       "2         0\n",
       "3         0\n",
       "4         0\n",
       "5         0\n",
       "6         0\n",
       "7         0\n",
       "8         0\n",
       "9         0\n",
       "10        1\n",
       "11        0\n",
       "12        0\n",
       "13        0\n",
       "14        0\n",
       "15        1\n",
       "16        0\n",
       "17        0\n",
       "18        0\n",
       "19        0\n",
       "20        0\n",
       "21        1\n",
       "22        0\n",
       "23        0\n",
       "24        0\n",
       "25        1\n",
       "26        0\n",
       "27        0\n",
       "28        0\n",
       "29        0\n",
       "         ..\n",
       "453278    1\n",
       "453279    0\n",
       "453280    1\n",
       "453281    1\n",
       "453282    0\n",
       "453283    1\n",
       "453284    0\n",
       "453285    0\n",
       "453286    0\n",
       "453287    0\n",
       "453288    0\n",
       "453289    0\n",
       "453290    1\n",
       "453291    1\n",
       "453292    0\n",
       "453293    0\n",
       "453294    0\n",
       "453295    0\n",
       "453296    0\n",
       "453297    0\n",
       "453298    1\n",
       "453299    1\n",
       "453300    0\n",
       "453301    1\n",
       "453302    0\n",
       "453303    1\n",
       "453304    1\n",
       "453305    1\n",
       "453306    0\n",
       "453307    0\n",
       "Name: cat_response, Length: 453308, dtype: int64"
      ]
     },
     "execution_count": 4,
     "metadata": {},
     "output_type": "execute_result"
    }
   ],
   "source": [
    "#split dataset in features and target variable\n",
    "feature_cols = ['YEAR','DAY_OF_MONTH','MONTH','ORIGIN_AIRPORT_ID','OP_CARRIER_AIRLINE_ID','DISTANCE','inputLongitude','inputLatitude','DEP_TIME','SurfaceTemperatureFahrenheit','SurfaceDewpointTemperatureFahrenheit','RelativeHumidityPercent','SurfaceAirPressureMillibars','CloudCoveragePercent','WindChillTemperatureFahrenheit','WindSpeedMph','WindDirectionDegrees','PrecipitationPreviousHourInches','SnowfallInches']\n",
    "X = data[feature_cols] # Features              \n",
    "y = data.cat_response # Target variable\n",
    "y"
   ]
  },
  {
   "cell_type": "code",
   "execution_count": 15,
   "metadata": {},
   "outputs": [],
   "source": [
    "\n",
    "\n",
    "# Split dataset into training set and test set\n",
    "X_train, X_test, y_train, y_test = train_test_split(X,y, test_size=0.2,random_state=42) # 70% training and 30% test\n"
   ]
  },
  {
   "cell_type": "code",
   "execution_count": 16,
   "metadata": {},
   "outputs": [],
   "source": [
    "model = Sequential([Dense(16, input_shape=(19,),activation='relu'), \n",
    "                    Dense(32, activation='relu'),Dense(2, activation='softmax')])"
   ]
  },
  {
   "cell_type": "code",
   "execution_count": 17,
   "metadata": {},
   "outputs": [],
   "source": [
    "model.compile(Adam(lr=.0001),loss='sparse_categorical_crossentropy',metrics=['accuracy'])\n"
   ]
  },
  {
   "cell_type": "code",
   "execution_count": 18,
   "metadata": {},
   "outputs": [
    {
     "name": "stdout",
     "output_type": "stream",
     "text": [
      "Epoch 1/20\n",
      " - 26s - loss: 5.7146 - acc: 0.6455\n",
      "Epoch 2/20\n",
      " - 31s - loss: 5.7146 - acc: 0.6455\n",
      "Epoch 3/20\n",
      " - 26s - loss: 5.7146 - acc: 0.6455\n",
      "Epoch 4/20\n",
      " - 26s - loss: 5.7146 - acc: 0.6455\n",
      "Epoch 5/20\n",
      " - 25s - loss: 5.7146 - acc: 0.6455\n",
      "Epoch 6/20\n",
      " - 25s - loss: 5.7146 - acc: 0.6455\n",
      "Epoch 7/20\n",
      " - 26s - loss: 5.7146 - acc: 0.6455\n",
      "Epoch 8/20\n",
      " - 25s - loss: 5.7146 - acc: 0.6455\n",
      "Epoch 9/20\n",
      " - 25s - loss: 5.7146 - acc: 0.6455\n",
      "Epoch 10/20\n",
      " - 25s - loss: 5.7146 - acc: 0.6455\n",
      "Epoch 11/20\n",
      " - 25s - loss: 5.7146 - acc: 0.6455\n",
      "Epoch 12/20\n",
      " - 26s - loss: 5.7146 - acc: 0.6455\n",
      "Epoch 13/20\n",
      " - 26s - loss: 5.7146 - acc: 0.6455\n",
      "Epoch 14/20\n",
      " - 25s - loss: 5.7146 - acc: 0.6455\n",
      "Epoch 15/20\n",
      " - 26s - loss: 5.7146 - acc: 0.6455\n",
      "Epoch 16/20\n",
      " - 25s - loss: 5.7146 - acc: 0.6455\n",
      "Epoch 17/20\n",
      " - 25s - loss: 5.7146 - acc: 0.6455\n",
      "Epoch 18/20\n",
      " - 25s - loss: 5.7146 - acc: 0.6455\n",
      "Epoch 19/20\n",
      " - 25s - loss: 5.7146 - acc: 0.6455\n",
      "Epoch 20/20\n",
      " - 25s - loss: 5.7146 - acc: 0.6455\n"
     ]
    },
    {
     "data": {
      "text/plain": [
       "<keras.callbacks.History at 0x7fc59f5a2630>"
      ]
     },
     "execution_count": 18,
     "metadata": {},
     "output_type": "execute_result"
    }
   ],
   "source": [
    "model.fit(X_train,y_train, batch_size=20, epochs=20, shuffle= True, verbose=2)"
   ]
  },
  {
   "cell_type": "code",
   "execution_count": 19,
   "metadata": {},
   "outputs": [
    {
     "name": "stdout",
     "output_type": "stream",
     "text": [
      "_________________________________________________________________\n",
      "Layer (type)                 Output Shape              Param #   \n",
      "=================================================================\n",
      "dense_4 (Dense)              (None, 16)                320       \n",
      "_________________________________________________________________\n",
      "dense_5 (Dense)              (None, 32)                544       \n",
      "_________________________________________________________________\n",
      "dense_6 (Dense)              (None, 2)                 66        \n",
      "=================================================================\n",
      "Total params: 930\n",
      "Trainable params: 930\n",
      "Non-trainable params: 0\n",
      "_________________________________________________________________\n"
     ]
    }
   ],
   "source": [
    "model.summary()"
   ]
  },
  {
   "cell_type": "code",
   "execution_count": 20,
   "metadata": {},
   "outputs": [],
   "source": [
    "from sklearn.metrics import confusion_matrix\n",
    "import itertools\n",
    "import matplotlib.pyplot as plt"
   ]
  },
  {
   "cell_type": "code",
   "execution_count": 21,
   "metadata": {},
   "outputs": [
    {
     "name": "stdout",
     "output_type": "stream",
     "text": [
      "362646/362646 [==============================] - 6s 16us/step\n"
     ]
    },
    {
     "data": {
      "text/plain": [
       "[5.714620119116213, 0.6454531416322188]"
      ]
     },
     "execution_count": 21,
     "metadata": {},
     "output_type": "execute_result"
    }
   ],
   "source": [
    "eval_model=model.evaluate(X_train, y_train)\n",
    "eval_model"
   ]
  },
  {
   "cell_type": "code",
   "execution_count": 22,
   "metadata": {},
   "outputs": [
    {
     "data": {
      "text/plain": [
       "array([0, 0, 0, ..., 0, 0, 0])"
      ]
     },
     "execution_count": 22,
     "metadata": {},
     "output_type": "execute_result"
    }
   ],
   "source": [
    "y_pred=model.predict(X_test)\n",
    "#y_pred =(y_pred>0.5)\n",
    "y_pred= np.argmax(y_pred, axis=1)\n",
    "y_pred"
   ]
  },
  {
   "cell_type": "code",
   "execution_count": 23,
   "metadata": {},
   "outputs": [
    {
     "data": {
      "text/plain": [
       "array([[58656,     0],\n",
       "       [32006,     0]])"
      ]
     },
     "execution_count": 23,
     "metadata": {},
     "output_type": "execute_result"
    }
   ],
   "source": [
    "cm = confusion_matrix(y_test, y_pred)\n",
    "cm"
   ]
  },
  {
   "cell_type": "code",
   "execution_count": 24,
   "metadata": {},
   "outputs": [
    {
     "name": "stdout",
     "output_type": "stream",
     "text": [
      "Confusion Matrix: \n",
      "  [[58656     0]\n",
      " [32006     0]]\n",
      "Accuracy :  64.69744766274734\n",
      "Report :                precision    recall  f1-score   support\n",
      "\n",
      "           0       0.65      1.00      0.79     58656\n",
      "           1       0.00      0.00      0.00     32006\n",
      "\n",
      "    accuracy                           0.65     90662\n",
      "   macro avg       0.32      0.50      0.39     90662\n",
      "weighted avg       0.42      0.65      0.51     90662\n",
      "\n"
     ]
    }
   ],
   "source": [
    "from sklearn.metrics import accuracy_score \n",
    "from sklearn.metrics import classification_report\n",
    "def cal_accuracy(y_test, y_pred): \n",
    "      \n",
    "    print(\"Confusion Matrix: \\n \", \n",
    "        confusion_matrix(y_test, y_pred)) \n",
    "      \n",
    "    print (\"Accuracy : \", \n",
    "    accuracy_score(y_test,y_pred)*100) \n",
    "      \n",
    "    print(\"Report : \", \n",
    "    classification_report(y_test, y_pred)) \n",
    "    \n",
    "cal_accuracy(y_test,y_pred)"
   ]
  },
  {
   "cell_type": "code",
   "execution_count": null,
   "metadata": {},
   "outputs": [],
   "source": []
  },
  {
   "cell_type": "code",
   "execution_count": null,
   "metadata": {},
   "outputs": [],
   "source": []
  }
 ],
 "metadata": {
  "kernelspec": {
   "display_name": "Python 3",
   "language": "python",
   "name": "python3"
  },
  "language_info": {
   "codemirror_mode": {
    "name": "ipython",
    "version": 3
   },
   "file_extension": ".py",
   "mimetype": "text/x-python",
   "name": "python",
   "nbconvert_exporter": "python",
   "pygments_lexer": "ipython3",
   "version": "3.6.8"
  }
 },
 "nbformat": 4,
 "nbformat_minor": 2
}
